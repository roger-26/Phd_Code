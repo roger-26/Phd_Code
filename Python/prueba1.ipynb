{
 "cells": [
  {
   "cell_type": "code",
   "execution_count": 3,
   "metadata": {
    "collapsed": true
   },
   "outputs": [
    {
     "name": "stdout",
     "output_type": "stream",
     "text": [
      "hola mundo\n"
     ]
    },
    {
     "data": {
      "text/plain": "'C:\\\\Dropbox\\\\Javeriana\\\\datasets\\\\AD-VSD\\\\surveillanceVideosDataset\\\\surveillanceVideosGT\\\\0092Fo_IndPW_HQ_C2_gt.txt'"
     },
     "execution_count": 3,
     "metadata": {},
     "output_type": "execute_result"
    }
   ],
   "source": [
    "print(\"hola mundo\")\n",
    "original_video = '0092Fo_IndPW_HQ_C2'\n",
    "'C:\\Dropbox\\Javeriana\\datasets\\AD-VSD\\surveillanceVideosDataset\\surveillanceVideosGT\\\\'+original_video+'_gt.txt'"
   ]
  }
 ],
 "metadata": {
  "kernelspec": {
   "display_name": "Python 3",
   "language": "python",
   "name": "python3"
  },
  "language_info": {
   "codemirror_mode": {
    "name": "ipython",
    "version": 2
   },
   "file_extension": ".py",
   "mimetype": "text/x-python",
   "name": "python",
   "nbconvert_exporter": "python",
   "pygments_lexer": "ipython2",
   "version": "2.7.6"
  }
 },
 "nbformat": 4,
 "nbformat_minor": 0
}