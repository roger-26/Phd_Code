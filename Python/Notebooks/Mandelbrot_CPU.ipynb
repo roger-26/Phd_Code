{
 "cells": [
  {
   "cell_type": "code",
   "execution_count": 2,
   "id": "9bff825c",
   "metadata": {},
   "outputs": [],
   "source": [
    "import pycuda.driver as cuda\n",
    "import pycuda.autoinit\n",
    "from pycuda.compiler import  SourceModule\n",
    "cuda.init()"
   ]
  },
  {
   "cell_type": "code",
   "execution_count": 1,
   "id": "2404cb15",
   "metadata": {},
   "outputs": [
    {
     "name": "stdout",
     "output_type": "stream",
     "text": [
      "It took 13.457294225692749 seconds to calculate the Mandelbrot graph.\n",
      "It took 0.10794615745544434 seconds to dump the image.\n"
     ]
    }
   ],
   "source": [
    "from time import time\n",
    "import matplotlib\n",
    "#this will prevent the figure from popping up\n",
    "matplotlib.use('Agg')#AGG backend is for writing to file, not for rendering in a window\n",
    "\n",
    "from matplotlib import pyplot as plt#Provides a MATLAB-like plotting framework.\n",
    "import numpy as np\n",
    "#width y height son el número de elementos que se va a probar en el rango\n",
    "#El upper_bound sería 2.5\n",
    "#maximo y minimo real es el rango en el eje X\n",
    "def simple_mandelbrot(width, height, real_low, real_high, imag_low, imag_high, max_iters, upper_bound):\n",
    "    real_vals = np.linspace(real_low, real_high, width)#np.linspace(start = 0, stop = 100, num = 5)\n",
    "    imag_vals = np.linspace(imag_low, imag_high, height)#el último es el número de items a generar\n",
    "    # we will represent members as 1, non-members as 0.\n",
    "    #inicializamos el gráfico\n",
    "    mandelbrot_graph = np.ones((height,width), dtype=np.float32)\n",
    "    for x in range(width):\n",
    "        for y in range(height):\n",
    "            c = np.complex64( real_vals[x] + imag_vals[y] * 1j  )            \n",
    "            z = np.complex64(0)\n",
    "            for i in range(max_iters):\n",
    "                z = z**2 + c\n",
    "                if(np.abs(z) > upper_bound):\n",
    "                    mandelbrot_graph[y,x] = 0\n",
    "                    break\n",
    "    return mandelbrot_graph\n",
    "\n",
    "\n",
    "if __name__ == '__main__':\n",
    "    \n",
    "    t1 = time()\n",
    "\t#512 es el número de elementos que vamos tomar en el rango\n",
    "\t#2.5 es el límite para la convergencia\n",
    "\t#256 es el número máximo de iteraciones\n",
    "    mandel = simple_mandelbrot(512,512,-2,2,-2,2,256, 2.5)\n",
    "    t2 = time()\n",
    "    mandel_time = t2 - t1\n",
    "    \n",
    "    #lo que se toma en generar la figura\n",
    "    t1 = time()\n",
    "    fig = plt.figure(1)\n",
    "    plt.imshow(mandel, extent=(-2, 2, -2, 2))\n",
    "\t#dpi is the resolution in dots per inchfrom \n",
    "    plt.savefig('mandelbrot.png', dpi=fig.dpi)\n",
    "    t2 = time()\n",
    "    \n",
    "    dump_time = t2 - t1\n",
    " \n",
    "    print ('It took {} seconds to calculate the Mandelbrot graph.'.format(mandel_time))\n",
    "    print ('It took {} seconds to dump the image.'.format(dump_time))"
   ]
  }
 ],
 "metadata": {
  "kernelspec": {
   "display_name": "Python 3",
   "language": "python",
   "name": "python3"
  },
  "language_info": {
   "codemirror_mode": {
    "name": "ipython",
    "version": 3
   },
   "file_extension": ".py",
   "mimetype": "text/x-python",
   "name": "python",
   "nbconvert_exporter": "python",
   "pygments_lexer": "ipython3",
   "version": "3.8.5"
  }
 },
 "nbformat": 4,
 "nbformat_minor": 5
}
