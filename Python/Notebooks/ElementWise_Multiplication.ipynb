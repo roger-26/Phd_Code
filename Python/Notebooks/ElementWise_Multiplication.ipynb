{
 "cells": [
  {
   "cell_type": "code",
   "execution_count": 5,
   "id": "d8395285",
   "metadata": {},
   "outputs": [
    {
     "name": "stdout",
     "output_type": "stream",
     "text": [
      "Tiempo total de computo en CPU: 0.115560\n",
      "El tiempo tomado por la GPU es: 0.020628\n"
     ]
    }
   ],
   "source": [
    "import numpy as np\n",
    "import pycuda.autoinit\n",
    "from pycuda import gpuarray\n",
    "from time import time\n",
    "\n",
    "#maximum 800M\n",
    "h_data = np.float32( np.random.random(200000000))\n",
    "t1 = time()\n",
    "h_data_2x = h_data * np.float32(2)\n",
    "t2 = time()\n",
    "print ('Tiempo total de computo en CPU: %f' % (t2-t1))\n",
    "\n",
    "d_data = gpuarray.to_gpu(h_data)\n",
    "#el tiempo se mide despues que los datos ya estan en el dispositivo\n",
    "t1 = time()\n",
    "d_data_2x = d_data * np.float32(2)\n",
    "t2 = time()\n",
    "print ('El tiempo tomado por la GPU es: %f' % (t2 -t1))\n"
   ]
  }
 ],
 "metadata": {
  "kernelspec": {
   "display_name": "Python 3",
   "language": "python",
   "name": "python3"
  },
  "language_info": {
   "codemirror_mode": {
    "name": "ipython",
    "version": 3
   },
   "file_extension": ".py",
   "mimetype": "text/x-python",
   "name": "python",
   "nbconvert_exporter": "python",
   "pygments_lexer": "ipython3",
   "version": "3.8.5"
  }
 },
 "nbformat": 4,
 "nbformat_minor": 5
}
