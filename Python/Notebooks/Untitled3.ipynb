{
 "cells": [
  {
   "cell_type": "code",
   "execution_count": 4,
   "id": "2096cc36",
   "metadata": {},
   "outputs": [
    {
     "name": "stdout",
     "output_type": "stream",
     "text": [
      "Matrix multiplication of 5000 elements\n",
      "take 11.931646s\n"
     ]
    }
   ],
   "source": [
    "import pycuda.autoinit\n",
    "import pycuda.driver as drv\n",
    "import numpy as np\n",
    "import sys\n",
    "from time import perf_counter \n",
    "# returns the float value of time in seconds. \n",
    "#Return the value (in fractional seconds) of a performance counter, i.e. a clock with the highest available resolution to measure a short duration. \n",
    "\n",
    "from math import ceil\n",
    "from pycuda import gpuarray\n",
    "from pycuda.compiler import SourceModule\n",
    "\n",
    "\n",
    "MATRIX_SIZE = 5000\n",
    "\n",
    "a_mat = np.random.randn(MATRIX_SIZE, MATRIX_SIZE).astype(np.float32)\n",
    "b_mat = np.random.randn(MATRIX_SIZE, MATRIX_SIZE).astype(np.float32)\n",
    "c_mat = a_mat.dot(b_mat)\n",
    "\n",
    "a_mat_gpu = gpuarray.to_gpu(a_mat)\n",
    "b_mat_gpu = gpuarray.to_gpu(b_mat)\n",
    "output_mat_gpu = gpuarray.empty((MATRIX_SIZE, MATRIX_SIZE), np.float32)\n",
    "#the matrix is represented as an array in the gpu so the indexation changes accordingly\n",
    "ker = SourceModule(\"\"\"\n",
    "\n",
    "                   __global__ void matrix_multiplication_kernel(\n",
    "                   float *a_mat, float *b_mat, float *output_mat){\n",
    "                    float a_val, b_val;\n",
    "                    int tx = blockIdx.x*blockDim.x+threadIdx.x;\n",
    "                    int ty = blockIdx.y*blockDim.y+threadIdx.y;\n",
    "                    float pval = 0;\n",
    "                    if (tx < %(MATRIX_SIZE)s && ty < %(MATRIX_SIZE)s){\n",
    "                     for (int k=0; k < %(MATRIX_SIZE)s; ++k){\n",
    "                      a_val = a_mat[tx * %(MATRIX_SIZE)s + k];\n",
    "                      b_val = b_mat[k * %(MATRIX_SIZE)s + ty];\n",
    "                      pval += a_val * b_val;\n",
    "                     }\n",
    "                     output_mat[tx * %(MATRIX_SIZE)s + ty] = pval; \n",
    "                    }\n",
    "                   }\"\"\"%{'MATRIX_SIZE': MATRIX_SIZE})\n",
    "\n",
    "matrix_multiplu_gpu = ker.get_function(\"matrix_multiplication_kernel\")\n",
    "\n",
    "\n",
    "start = drv.Event()\n",
    "end=drv.Event()\n",
    "#Start Time\n",
    "start.record()\n",
    "#The kernel code for which time is to be measured\n",
    "#is converted to next highest integer value using the ceil function of the numpy library\n",
    "matrix_multiplu_gpu(a_mat_gpu, b_mat_gpu, output_mat_gpu, block=(32,32,1), grid=(ceil(MATRIX_SIZE/32),ceil(MATRIX_SIZE/32),1))\n",
    "#End Time\n",
    "end.record()\n",
    "end.synchronize()\n",
    "#Measure time difference, give time in milliseconds, which is converted to seconds.\n",
    "secs = start.time_till(end)*1e-3\n",
    "print(\"Matrix multiplication of %d elements\"%MATRIX_SIZE)\n",
    "print(\"take %fs\" % (secs))\n",
    "\n",
    "\n",
    "\n",
    "#liberar memoria de forma manual\n",
    "a_mat_gpu.gpudata.free()\n",
    "b_mat_gpu.gpudata.free()\n",
    "output_mat_gpu.gpudata.free()\n",
    "\n"
   ]
  }
 ],
 "metadata": {
  "kernelspec": {
   "display_name": "Python 3",
   "language": "python",
   "name": "python3"
  },
  "language_info": {
   "codemirror_mode": {
    "name": "ipython",
    "version": 3
   },
   "file_extension": ".py",
   "mimetype": "text/x-python",
   "name": "python",
   "nbconvert_exporter": "python",
   "pygments_lexer": "ipython3",
   "version": "3.8.5"
  }
 },
 "nbformat": 4,
 "nbformat_minor": 5
}
