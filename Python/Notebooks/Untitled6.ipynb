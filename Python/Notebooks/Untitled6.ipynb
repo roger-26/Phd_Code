{
 "cells": [
  {
   "cell_type": "code",
   "execution_count": 23,
   "metadata": {},
   "outputs": [
    {
     "name": "stdout",
     "output_type": "stream",
     "text": [
      "Sales\n",
      "Tax \n",
      "Rate 6.5%\n",
      "Sales Tax Rate v2 6.5%\n"
     ]
    }
   ],
   "source": [
    "sales_tax_rate = 0.065\n",
    "print(f\"\"\"Sales\n",
    "Tax \n",
    "Rate {sales_tax_rate:.1%}\"\"\")\n",
    "\n",
    "#guardandolo en una variable\n",
    "\n",
    "sample1 = f'Sales Tax Rate v2 {sales_tax_rate:.1%}'\n",
    "print(sample1)"
   ]
  },
  {
   "cell_type": "code",
   "execution_count": 24,
   "metadata": {},
   "outputs": [
    {
     "name": "stdout",
     "output_type": "stream",
     "text": [
      "\n",
      "Subtotal:  $ 1,598.40\n",
      "Sales Tax: $   103.90\n",
      "\n"
     ]
    }
   ],
   "source": [
    "unit_price = 49.95\n",
    "quantity = 32\n",
    "subtotal = quantity * unit_price\n",
    "sales_tax = sales_tax_rate * subtotal\n",
    "\n",
    "output = f\"\"\"\n",
    "Subtotal:  ${subtotal:>9,.2f}\n",
    "Sales Tax: ${sales_tax:>9,.2f}\n",
    "\"\"\"\n",
    "\n",
    "print (output)"
   ]
  },
  {
   "cell_type": "markdown",
   "metadata": {},
   "source": [
    "Here I concatenate dos cadenas para que el signo dolar quede adelante siempre"
   ]
  },
  {
   "cell_type": "code",
   "execution_count": 32,
   "metadata": {},
   "outputs": [
    {
     "name": "stdout",
     "output_type": "stream",
     "text": [
      "\n",
      "Subtotal: $1,598.40\n",
      "\n"
     ]
    }
   ],
   "source": [
    "s_subtotal = \"$\" + f\"{subtotal:,.2f}\"\n",
    "output2 = f\"\"\"\n",
    "Subtotal: {s_subtotal:>2}#el número de espacios que se corre\n",
    "\"\"\"\n",
    "print (output2)"
   ]
  },
  {
   "cell_type": "markdown",
   "metadata": {},
   "source": [
    "# Operaciones con cadenas\n",
    "\n",
    "El primer caracter es cero."
   ]
  },
  {
   "cell_type": "code",
   "execution_count": 44,
   "metadata": {},
   "outputs": [
    {
     "name": "stdout",
     "output_type": "stream",
     "text": [
      "4\n",
      "Alan C. Simpson\n",
      "15\n",
      "13 8\n"
     ]
    }
   ],
   "source": [
    "first_name = \"Alan\"\n",
    "print(len(first_name))\n",
    "middle_init = \"C.\"\n",
    "last_name = \"Simpson\"\n",
    "full_name = first_name + \" \"+middle_init + \" \"+last_name\n",
    "print(full_name)\n",
    "print(len(full_name))\n",
    "y=full_name.index(\"Si\")\n",
    "x=full_name.index(\"on\")\n",
    "z=full_name.count(\"o\")\n",
    "print(x,y)"
   ]
  }
 ],
 "metadata": {
  "kernelspec": {
   "display_name": "Python 3",
   "language": "python",
   "name": "python3"
  },
  "language_info": {
   "codemirror_mode": {
    "name": "ipython",
    "version": 3
   },
   "file_extension": ".py",
   "mimetype": "text/x-python",
   "name": "python",
   "nbconvert_exporter": "python",
   "pygments_lexer": "ipython3",
   "version": "3.7.6"
  }
 },
 "nbformat": 4,
 "nbformat_minor": 4
}
