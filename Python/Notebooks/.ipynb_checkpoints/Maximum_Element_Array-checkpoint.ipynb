{
 "cells": [
  {
   "cell_type": "code",
   "execution_count": 4,
   "id": "1f56a395",
   "metadata": {},
   "outputs": [
    {
     "name": "stdout",
     "output_type": "stream",
     "text": [
      "[ 1  1  1  3 66]\n",
      "66\n"
     ]
    }
   ],
   "source": [
    "import numpy as np\n",
    "import pycuda.autoinit\n",
    "from pycuda import gpuarray \n",
    "from pycuda.scan import InclusiveScanKernel\n",
    "\n",
    "array_seq\t= np.array([1,100,-10001,3,66],dtype=np.int32)\n",
    "array_gpu \t= gpuarray.to_gpu(array_seq)\n",
    "#al final se queda con el valor máximo\n",
    "max_gpu\t\t= InclusiveScanKernel(np.int32,\"a > b ? a : b\")\n",
    "\n",
    "#We finally display the last value of the resulting element in the output array,\n",
    "# which will be exactly the last element (which we can always retrieve with the \n",
    "#[-1] index in Python).\n",
    "print (max_gpu(array_gpu).get()[-1])\n",
    "print (np.max(array_seq))"
   ]
  }
 ],
 "metadata": {
  "kernelspec": {
   "display_name": "Python 3",
   "language": "python",
   "name": "python3"
  },
  "language_info": {
   "codemirror_mode": {
    "name": "ipython",
    "version": 3
   },
   "file_extension": ".py",
   "mimetype": "text/x-python",
   "name": "python",
   "nbconvert_exporter": "python",
   "pygments_lexer": "ipython3",
   "version": "3.8.5"
  }
 },
 "nbformat": 4,
 "nbformat_minor": 5
}
