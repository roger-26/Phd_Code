{
 "cells": [
  {
   "cell_type": "code",
   "execution_count": 12,
   "id": "2aa7f9bd",
   "metadata": {},
   "outputs": [
    {
     "name": "stdout",
     "output_type": "stream",
     "text": [
      "el producto punto es  5205208750\n",
      "Se calcula en  0.17730331420898438 segundos usando GPU\n"
     ]
    }
   ],
   "source": [
    "import pycuda.gpuarray as gpuarray\n",
    "import pycuda.autoinit\n",
    "import numpy as np\n",
    "from pycuda.reduction import ReductionKernel\n",
    "from time import time\n",
    "\n",
    "size_vector = 5000\n",
    "\n",
    "\n",
    "d_vector_a    = gpuarray.arange(size_vector,dtype=np.int64)\n",
    "d_vector_b    = gpuarray.arange(size_vector,dtype=np.int64)\n",
    "#neutral is an element that will act as an identity for \n",
    "#reduce_expr; here, \n",
    "#we set neutral=0, because 0 is always the identity under \n",
    "#addition (under multiplication, one is the identity)\n",
    "#no olvidar colocar la coma entre los argumentos\n",
    "t1 = time()\n",
    "producto_punto_kernel = ReductionKernel(np.int64,\n",
    "                                 neutral=\"0\",\n",
    "                                 reduce_expr = \"a+b\",\n",
    "                                 map_expr = \"x[i]*y[i]\",\n",
    "                                 arguments=\"int *x, int *y\")\n",
    "\n",
    "#get trae los resultados de la gpu\n",
    "producto_punto \t= producto_punto_kernel(vector_a,vector_b).get()\n",
    "t2=time()\n",
    "\n",
    "\n",
    "print (\"el producto punto es \",producto_punto)\n",
    "print ('Se calcula en  {} segundos usando GPU'.format(t2-t1))"
   ]
  }
 ],
 "metadata": {
  "kernelspec": {
   "display_name": "Python 3",
   "language": "python",
   "name": "python3"
  },
  "language_info": {
   "codemirror_mode": {
    "name": "ipython",
    "version": 3
   },
   "file_extension": ".py",
   "mimetype": "text/x-python",
   "name": "python",
   "nbconvert_exporter": "python",
   "pygments_lexer": "ipython3",
   "version": "3.8.5"
  }
 },
 "nbformat": 4,
 "nbformat_minor": 5
}
