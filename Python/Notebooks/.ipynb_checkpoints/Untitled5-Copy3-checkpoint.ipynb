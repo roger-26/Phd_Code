{
 "cells": [
  {
   "cell_type": "code",
   "execution_count": 1,
   "id": "d8094cca",
   "metadata": {},
   "outputs": [],
   "source": [
    "import numpy as np\n",
    "import os\n",
    "import time\n",
    "\n",
    "\n",
    "\n",
    "with open('/home/r/Dropbox/Javeriana/current_work/tracker_prediction/VariacionResolucion_ImpactoTracker/script_convert_2_ogv.txt') as f:\n",
    "    lines = f.readlines()\n",
    "\n",
    "\n",
    "os.chdir(r'/home/r/Dropbox/Javeriana/datasets/AD-VSD/surveillanceVideosDataset/surveillanceVideos')"
   ]
  },
  {
   "cell_type": "code",
   "execution_count": null,
   "id": "7e10a0b7",
   "metadata": {},
   "outputs": [
    {
     "name": "stdout",
     "output_type": "stream",
     "text": [
      "ffmpeg -i 0882ExFo_IndFG_MQ_C1.mp4 -c:v libtheora -q:v 10 -c:a libvorbis -q:a 10 /home/r/Dropbox/Javeriana/datasets/AD-VSD/surveillanceVideosDataset/surveillanceVideos_ogv/0882ExFo_IndFG_MQ_C1.ogv\n",
      "\n",
      "0\n",
      "43.54798221588135\n",
      "ffmpeg -i 0883ExFo_IndFG_MQ_C2.mp4 -c:v libtheora -q:v 10 -c:a libvorbis -q:a 10 /home/r/Dropbox/Javeriana/datasets/AD-VSD/surveillanceVideosDataset/surveillanceVideos_ogv/0883ExFo_IndFG_MQ_C2.ogv\n",
      "\n"
     ]
    }
   ],
   "source": [
    "for i in range (401,600):\n",
    "    start = time.time()\n",
    "    print(lines[i])\n",
    "    print(os.system(lines[i]))\n",
    "    end = time.time()\n",
    "    print(end - start)\n",
    "end\n"
   ]
  },
  {
   "cell_type": "code",
   "execution_count": null,
   "id": "bb90f8bf",
   "metadata": {},
   "outputs": [],
   "source": []
  }
 ],
 "metadata": {
  "kernelspec": {
   "display_name": "Python 3",
   "language": "python",
   "name": "python3"
  },
  "language_info": {
   "codemirror_mode": {
    "name": "ipython",
    "version": 3
   },
   "file_extension": ".py",
   "mimetype": "text/x-python",
   "name": "python",
   "nbconvert_exporter": "python",
   "pygments_lexer": "ipython3",
   "version": "3.8.5"
  }
 },
 "nbformat": 4,
 "nbformat_minor": 5
}
