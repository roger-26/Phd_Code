{
 "cells": [
  {
   "cell_type": "code",
   "execution_count": 4,
   "id": "f475fa6a",
   "metadata": {},
   "outputs": [
    {
     "name": "stdout",
     "output_type": "stream",
     "text": [
      "[ 1  3  6 10]\n",
      "[ 1  3  6 10]\n"
     ]
    }
   ],
   "source": [
    "import numpy as np\n",
    "import pycuda.autoinit\n",
    "from pycuda import gpuarray\n",
    "from pycuda.scan import InclusiveScanKernel\n",
    "\n",
    "#install mako\n",
    "array_seq = np.array([1,2,3,4],dtype=np.int32)\n",
    "array_gpu   = gpuarray.to_gpu(array_seq)\n",
    "\n",
    "#get an array of the same size as the input array.\n",
    "sum_gpu = InclusiveScanKernel(np.int32, \"a+b\")\n",
    "\n",
    "var = sum_gpu(array_gpu).get()\n",
    "\n",
    "print (var)\n",
    "#haciendolo en la CPU, with numpy\n",
    "print (np.cumsum(array_seq))"
   ]
  }
 ],
 "metadata": {
  "kernelspec": {
   "display_name": "Python 3",
   "language": "python",
   "name": "python3"
  },
  "language_info": {
   "codemirror_mode": {
    "name": "ipython",
    "version": 3
   },
   "file_extension": ".py",
   "mimetype": "text/x-python",
   "name": "python",
   "nbconvert_exporter": "python",
   "pygments_lexer": "ipython3",
   "version": "3.8.5"
  }
 },
 "nbformat": 4,
 "nbformat_minor": 5
}
