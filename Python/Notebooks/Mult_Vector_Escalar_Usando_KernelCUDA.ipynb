{
 "cells": [
  {
   "cell_type": "code",
   "execution_count": 16,
   "id": "b55d0fca",
   "metadata": {},
   "outputs": [
    {
     "name": "stdout",
     "output_type": "stream",
     "text": [
      "La multiplicación se realizó correctamente? : False\n"
     ]
    }
   ],
   "source": [
    "import pycuda.autoinit\n",
    "import pycuda.driver as drv\n",
    "import numpy as np\n",
    "from pycuda import gpuarray\n",
    "from pycuda.compiler import SourceModule\n",
    "\n",
    "#when we declare a kernel function in CUDA C proper, we precede it with the\n",
    "# __global__ keyword.This will distinguish the function as a kernel to the compiler.\n",
    "\n",
    "#We'll always just declare this as a void function, because we'll always get our\n",
    "# output values by passing a pointer to some empty chunk of memory that we pass \n",
    "#in as a parameter.\n",
    "\n",
    "#the identification of each individual thread is given by the threadIdx value,\n",
    "# which we retrieve as follows: int i = threadIdx.x;.\n",
    "ker = SourceModule(\"\"\"\n",
    "__global__ void scalar_multiplication_kernel (float *output_vector, float scalar,\n",
    "float *vec)\n",
    "{\n",
    " int i = threadIdx.x;\n",
    " output_vector[i] = scalar * vec[i];\n",
    "}                   \n",
    "\"\"\")\n",
    "\n",
    "#pull out a reference to our compiled kernel function from the CUDA module\n",
    "scalar_multiply_gpu = ker.get_function(\"scalar_multiplication_kernel\")\n",
    "\n",
    "#Return a sample (or samples) from the “standard normal” distribution.\n",
    "#cast to a specified type.\n",
    "#no puede exceder el tamaño maximo que es 1024\n",
    "vector =    np.random.randn(2048).astype(np.float32)\n",
    "vector_gpu  = gpuarray.to_gpu(vector)\n",
    "output_vector = gpuarray.empty_like(vector_gpu)\n",
    "\n",
    "scalar_multiply_gpu(output_vector,np.float32(2),vector_gpu,block=(1024,1,1),grid=(2,1,1))\n",
    "#Returns True if two arrays are element-wise equal within a tolerance.\n",
    "print (\"La multiplicación se realizó correctamente? : {}\".format(np.allclose(output_vector.get() , 2*vector) ))"
   ]
  }
 ],
 "metadata": {
  "kernelspec": {
   "display_name": "Python 3",
   "language": "python",
   "name": "python3"
  },
  "language_info": {
   "codemirror_mode": {
    "name": "ipython",
    "version": 3
   },
   "file_extension": ".py",
   "mimetype": "text/x-python",
   "name": "python",
   "nbconvert_exporter": "python",
   "pygments_lexer": "ipython3",
   "version": "3.8.5"
  }
 },
 "nbformat": 4,
 "nbformat_minor": 5
}
