{
 "cells": [
  {
   "cell_type": "code",
   "execution_count": 10,
   "id": "954c2eec",
   "metadata": {},
   "outputs": [
    {
     "name": "stdout",
     "output_type": "stream",
     "text": [
      "total time to compute on CPU: 0.118444\n",
      "total time to compute on GPU: 0.053909\n"
     ]
    }
   ],
   "source": [
    "#multiplico por 2 un array usando kernel\n",
    "import numpy as np\n",
    "#picks a GPU to run on, based on availability and the number, if any\n",
    "import pycuda.autoinit\n",
    "from pycuda import gpuarray\n",
    "from time import time\n",
    "\n",
    "# The functionality in the module pycuda.elementwise contains tools to help generate kernels \n",
    "#that evaluate multi-stage expressions on one or several operands in a single pass.\n",
    "#All these instances are required to have the same length.\n",
    "from pycuda.elementwise import ElementwiseKernel\n",
    "\n",
    "#maximo 2e8 in 6GB, depends on GPU memory\n",
    "host_data = np.float32( np.random.random(200000000) )\n",
    "\n",
    "#//input and output variables in the first line, with C pointers\n",
    "# //PyCUDA sets up the index i for us,paralleize among the GPU cores\n",
    "gpu_2x_ker = ElementwiseKernel(\n",
    "\"float *in, float *out\", \n",
    "\"out[i] = 2*in[i];\", \n",
    "\"gpu_2x_ker\")#kernel name\n",
    "\n",
    "def speedcomparison():\n",
    "    t1 = time()\n",
    "    host_data_2x =  host_data * np.float32(2)\n",
    "    t2 = time()\n",
    "    print ('total time to compute on CPU: %f' % (t2 - t1))\n",
    "    device_data = gpuarray.to_gpu(host_data)\n",
    "    \n",
    "    # allocate memory for output\n",
    "    #This acts as a plain malloc in C, allocating an array of the same size and\n",
    "    #data type as device_data, but without copying anything.\n",
    "    device_data_2x = gpuarray.empty_like(device_data)\n",
    "    t1 = time()\n",
    "    \n",
    "    #the variables we set correspond directly to the first line we defined with\n",
    "    gpu_2x_ker(device_data, device_data_2x)\n",
    "    t2 = time()\n",
    "    h_from_device = device_data_2x.get()\n",
    "    print ('total time to compute on GPU: %f' % (t2 - t1))\n",
    "\n",
    "\n",
    "if __name__ == '__main__':\n",
    "    speedcomparison()"
   ]
  }
 ],
 "metadata": {
  "kernelspec": {
   "display_name": "Python 3",
   "language": "python",
   "name": "python3"
  },
  "language_info": {
   "codemirror_mode": {
    "name": "ipython",
    "version": 3
   },
   "file_extension": ".py",
   "mimetype": "text/x-python",
   "name": "python",
   "nbconvert_exporter": "python",
   "pygments_lexer": "ipython3",
   "version": "3.8.5"
  }
 },
 "nbformat": 4,
 "nbformat_minor": 5
}
