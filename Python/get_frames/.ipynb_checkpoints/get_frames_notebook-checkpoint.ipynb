{
 "cells": [
  {
   "cell_type": "code",
   "execution_count": 9,
   "id": "composite-cigarette",
   "metadata": {},
   "outputs": [],
   "source": [
    "import cv2\n",
    "import time\n",
    "import os"
   ]
  },
  {
   "cell_type": "code",
   "execution_count": 12,
   "id": "fiscal-tunisia",
   "metadata": {},
   "outputs": [],
   "source": [
    "def get_frames(vid_name, folder_name, ext):\n",
    "    cam = cv2.VideoCapture(vid_name) \n",
    "\n",
    "    currentframe = 0\n",
    "\n",
    "    while(True): \n",
    "        # reading from frame \n",
    "        ret,frame = cam.read() \n",
    "\n",
    "        if ret: \n",
    "            # if video is still left continue creating images \n",
    "            name = os.path.join(folder_name,str(currentframe+1).rjust(4,'0') + '.' + ext)\n",
    "            # print ('Creating...' + name)\n",
    "\n",
    "            # writing the extracted images \n",
    "            cv2.imwrite(name, frame) \n",
    "\n",
    "            # increasing counter so that it will \n",
    "            # show how many frames are created \n",
    "            currentframe += 1\n",
    "        else: \n",
    "            break\n",
    "\n",
    "    # Release all space and windows once done \n",
    "    cam.release() \n",
    "    cv2.destroyAllWindows() "
   ]
  },
  {
   "cell_type": "markdown",
   "id": "departmental-foster",
   "metadata": {},
   "source": [
    "## Example with only one video"
   ]
  },
  {
   "cell_type": "code",
   "execution_count": 7,
   "id": "another-heading",
   "metadata": {
    "scrolled": true
   },
   "outputs": [
    {
     "name": "stdout",
     "output_type": "stream",
     "text": [
      "--- 14.328546047210693 seconds ---\n"
     ]
    }
   ],
   "source": [
    "vid_name = 'Muestra_Video.mp4'\n",
    "folder_name = 'New_Images'\n",
    "ext = 'jpg'\n",
    "\n",
    "start_time = time.time()\n",
    "\n",
    "get_frames(vid_name, folder_name, ext)\n",
    "\n",
    "print(\"--- %s seconds ---\" % (time.time() - start_time))"
   ]
  },
  {
   "cell_type": "markdown",
   "id": "promising-necklace",
   "metadata": {},
   "source": [
    "## Example with multiple videos"
   ]
  },
  {
   "cell_type": "code",
   "execution_count": 13,
   "id": "featured-chaos",
   "metadata": {},
   "outputs": [],
   "source": [
    "Img_folder = 'Images'\n",
    "Vid_folder = 'Videos'\n",
    "ext = 'jpg'\n",
    "\n",
    "files = sorted(os.listdir(Vid_folder))\n",
    "\n",
    "# Creates the folder to save the images\n",
    "for f in files:\n",
    "    if not os.path.exists(os.path.join(Img_folder, f[0:4])):\n",
    "        os.makedirs(os.path.join(Img_folder, f[0:4]))"
   ]
  },
  {
   "cell_type": "code",
   "execution_count": 15,
   "id": "detected-symposium",
   "metadata": {},
   "outputs": [],
   "source": [
    "for vid_name in files:\n",
    "    vid_location = os.path.join(Vid_folder,vid_name)\n",
    "    frames_location = os.path.join(Img_folder,vid_name[0:4])\n",
    "    get_frames(vid_location,\n",
    "               frames_location,\n",
    "               ext)"
   ]
  },
  {
   "cell_type": "code",
   "execution_count": null,
   "id": "illegal-international",
   "metadata": {},
   "outputs": [],
   "source": []
  }
 ],
 "metadata": {
  "kernelspec": {
   "display_name": "Python 3",
   "language": "python",
   "name": "python3"
  },
  "language_info": {
   "codemirror_mode": {
    "name": "ipython",
    "version": 3
   },
   "file_extension": ".py",
   "mimetype": "text/x-python",
   "name": "python",
   "nbconvert_exporter": "python",
   "pygments_lexer": "ipython3",
   "version": "3.7.9"
  }
 },
 "nbformat": 4,
 "nbformat_minor": 5
}
